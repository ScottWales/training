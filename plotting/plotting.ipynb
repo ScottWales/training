{
 "cells": [
  {
   "cell_type": "markdown",
   "metadata": {},
   "source": [
    "# Plotting with Python\n",
    "\n",
    "This is an overview of how to create plots using Pyplot in Python.\n",
    "\n",
    "I'm not going to go much into the whys of plotting - what the best way is to communicate your data, but this is something you should be keeping in mind whenever you're trying to communicate your science. See e.g. [Rougier et al (2014) doi:10.1371/journal.pcbi.1003833](https://dx.doi.org/10.1371%2Fjournal.pcbi.1003833)\n",
    "\n",
    "To start off with let's load some libraries and test data. I've aliased `matplotlib.pyplot` to `plt`."
   ]
  },
  {
   "cell_type": "code",
   "execution_count": 2,
   "metadata": {},
   "outputs": [],
   "source": [
    "%matplotlib inline\n",
    "import matplotlib.pyplot as plt\n",
    "import numpy"
   ]
  },
  {
   "cell_type": "code",
   "execution_count": 2,
   "metadata": {},
   "outputs": [],
   "source": [
    "x = numpy.linspace(0,10)\n",
    "y = numpy.sin(x)\n",
    "z = numpy.cos(3*x)"
   ]
  },
  {
   "cell_type": "markdown",
   "metadata": {},
   "source": [
    "Line plots can be made using [`plot()`](https://matplotlib.org/3.1.1/api/_as_gen/matplotlib.pyplot.plot.html). I'm using Jupyter with `%matplotlib inline` so the plots show automatically, if you're using a script you need to call [`show()`](https://matplotlib.org/3.1.1/api/_as_gen/matplotlib.pyplot.show.html) for the plots to appear"
   ]
  },
  {
   "cell_type": "code",
   "execution_count": 3,
   "metadata": {},
   "outputs": [],
   "source": [
    "# In Jupyter, after `%matplotlib inline`\n",
    "# plt.plot(x)"
   ]
  },
  {
   "cell_type": "code",
   "execution_count": 4,
   "metadata": {},
   "outputs": [],
   "source": [
    "# In a script\n",
    "# plt.plot(x)\n",
    "# plt.show()"
   ]
  },
  {
   "cell_type": "markdown",
   "metadata": {},
   "source": [
    "# Plotting Options\n",
    "\n",
    "There's a lot of options for formatting plots as you like:\n",
    "\n",
    " - Line types\n",
    " - Axis Labels and Titles\n",
    " - Plot limits\n",
    " - Figure size"
   ]
  },
  {
   "cell_type": "code",
   "execution_count": null,
   "metadata": {},
   "outputs": [],
   "source": []
  },
  {
   "cell_type": "markdown",
   "metadata": {},
   "source": [
    "## 2D Plots\n",
    "\n",
    "Pyplot has a number of functions for working with 2d datasets\n",
    "\n",
    "- [`imshow()`](https://matplotlib.org/3.1.1/api/_as_gen/matplotlib.pyplot.imshow.html): Plot regularly spaced data\n",
    "- [`pcolormesh()`](https://matplotlib.org/3.1.1/api/_as_gen/matplotlib.pyplot.pcolormesh.html): Plot irregularly spaced data\n",
    "- [`contour()`](https://matplotlib.org/3.1.1/api/_as_gen/matplotlib.pyplot.contour.html): Contour plot\n",
    "- [`contourf()`](https://matplotlib.org/3.1.1/api/_as_gen/matplotlib.pyplot.contourf.html): Filled contour plot\n",
    "\n",
    "You can set colour maps using the `cmap=` argument, colour limits using `vmin=` and `vmax=`. If you're making multiple plots to compare with each other make sure these are consistent\n",
    "\n",
    "[`colorbar()`](https://matplotlib.org/3.1.1/api/_as_gen/matplotlib.pyplot.colorbar.html) will add a colour bar to a plot\n",
    "\n",
    "Here's a spherical harmonic to experiment with:"
   ]
  },
  {
   "cell_type": "code",
   "execution_count": 5,
   "metadata": {},
   "outputs": [],
   "source": [
    "import scipy.special\n",
    "\n",
    "x = numpy.linspace(0, 2*numpy.pi)\n",
    "y = numpy.linspace(0, numpy.pi)\n",
    "\n",
    "lon = numpy.rad2deg(x)\n",
    "lat = numpy.rad2deg(y-numpy.pi/2.0)\n",
    "\n",
    "(X,Y) = numpy.meshgrid(x, y)\n",
    "Y_12 = scipy.special.sph_harm(1, 2, X, Y)\n",
    "\n",
    "#plt.pcolormesh(lon, lat, numpy.real(Y_12))"
   ]
  },
  {
   "cell_type": "code",
   "execution_count": null,
   "metadata": {},
   "outputs": [],
   "source": []
  },
  {
   "cell_type": "markdown",
   "metadata": {},
   "source": [
    "## Projections\n",
    "\n",
    "When working with climate data you may want to put it onto a map projection. Cartopy is the library to use for this.\n",
    "\n",
    "To project a plot you need to specify the projections of both your input data as well as the plot - to do this we create a pyplot axis with [`axes()`](https://matplotlib.org/3.1.1/api/_as_gen/matplotlib.pyplot.axes.html) and specify a `projection=`.\n",
    "\n",
    "To tell pyplot what projection your input dataset is on use the `transform=` argument in a plotting function - a regular lat-lon grid uses the [`PlateCarree()`](https://scitools.org.uk/cartopy/docs/latest/crs/projections.html#platecarree) projection.\n",
    "\n",
    "A list of available projections are available in the [Cartopy documentation](https://scitools.org.uk/cartopy/docs/latest/)"
   ]
  },
  {
   "cell_type": "code",
   "execution_count": 6,
   "metadata": {},
   "outputs": [
    {
     "data": {
      "image/png": "[encoded data removed]",
      "text/plain": [
       "<Figure size 432x288 with 1 Axes>"
      ]
     },
     "metadata": {
      "needs_background": "light"
     },
     "output_type": "display_data"
    }
   ],
   "source": [
    "import cartopy.crs as ccrs\n",
    "\n",
    "ax = plt.axes(projection=ccrs.Mollweide(central_longitude=130))\n",
    "# plt.pcolormesh(lon, lat, numpy.real(Y_12), transform=ccrs.PlateCarree())\n",
    "\n",
    "# ax.coastlines()"
   ]
  },
  {
   "cell_type": "code",
   "execution_count": null,
   "metadata": {},
   "outputs": [],
   "source": []
  },
  {
   "cell_type": "markdown",
   "metadata": {},
   "source": [
    "## Proj\n",
    "\n",
    "Behind the scenes Cartopy uses a projection library called [Proj](https://proj.org/). If you can't find the projection you want check the Proj documentation, it is pretty comprehensive in what transformations it can do.\n",
    "\n",
    "You can create a new Cartopy projection from a list of Proj parameters using [`cartopy.crs.Projection()`](https://scitools.org.uk/cartopy/docs/latest/crs/index.html#cartopy.crs.Projection)."
   ]
  },
  {
   "cell_type": "markdown",
   "metadata": {},
   "source": [
    "## Plotting Xarray data\n",
    "\n",
    "Xarray DataArrays have built in pyplot support, they will create a plot with automatic axis labelling based on the DataArray's metadata\n",
    "\n"
   ]
  },
  {
   "cell_type": "code",
   "execution_count": 7,
   "metadata": {},
   "outputs": [
    {
     "data": {
      "text/plain": [
       "<xarray.DataArray 'ta' (time: 364, plev: 17, lat: 144, lon: 192)>\n",
       "dask.array<shape=(364, 17, 144, 192), dtype=float32, chunksize=(363, 17, 144, 192)>\n",
       "Coordinates:\n",
       "  * plev     (plev) float64 1e+05 9.25e+04 8.5e+04 7e+04 ... 3e+03 2e+03 1e+03\n",
       "  * lat      (lat) float64 -89.38 -88.12 -86.88 -85.62 ... 86.88 88.12 89.38\n",
       "  * lon      (lon) float64 0.9375 2.812 4.688 6.562 ... 353.4 355.3 357.2 359.1\n",
       "  * time     (time) object 1978-09-16 00:00:00 ... 2008-12-16 00:00:00\n",
       "Attributes:\n",
       "    standard_name:     air_temperature\n",
       "    long_name:         Air Temperature\n",
       "    units:             K\n",
       "    original_name:     mo: m01s30i204/m01s30i301\n",
       "    cell_methods:      time: mean\n",
       "    associated_files:  baseURL: http://cmip-pcmdi.llnl.gov/CMIP5/dataLocation..."
      ]
     },
     "execution_count": 7,
     "metadata": {},
     "output_type": "execute_result"
    }
   ],
   "source": [
    "import xarray\n",
    "\n",
    "ds = xarray.open_mfdataset('/g/data/al33/replicas/CMIP5/combined/MOHC/HadGEM2-A/amip/mon/atmos/Amon/r1i1p1/v20131108/ta/ta_Amon_HadGEM2-A_amip_r1i1p1_*.nc')\n",
    "ds.ta"
   ]
  },
  {
   "cell_type": "code",
   "execution_count": 8,
   "metadata": {},
   "outputs": [],
   "source": [
    "# ds.ta.isel(plev=0).sel(lat=-37.8, lon=144.9, method='nearest').plot()"
   ]
  },
  {
   "cell_type": "markdown",
   "metadata": {},
   "source": [
    "The plot created depends on the dimensions of the data array - 1d arrays get [`plot()`](http://xarray.pydata.org/en/stable/generated/xarray.plot.line.html), 2d arrays get [`pcolormesh()`](http://xarray.pydata.org/en/stable/generated/xarray.plot.pcolormesh.html).\n",
    "\n",
    "You can get a specific plot type using e.g. [`data.plot.contourf()`](http://xarray.pydata.org/en/stable/generated/xarray.plot.contourf.html)\n",
    "\n",
    "Turn off the default colour bar or labels using `add_colorbar=False` or `add_labels=False` respectively"
   ]
  },
  {
   "cell_type": "code",
   "execution_count": null,
   "metadata": {},
   "outputs": [],
   "source": []
  },
  {
   "cell_type": "markdown",
   "metadata": {},
   "source": [
    "## Making Pretty Plots\n",
    "\n",
    "There's a wide range of options for styling your plots to your liking. The best way I can recommend to see what's possible is to take a look at the various galleries of plot styles - you can click on a plot to see how it was created\n",
    "\n",
    "* [Matplotlib Gallery](https://matplotlib.org/gallery.html)\n",
    "* [Cartopy Gallery](https://scitools.org.uk/cartopy/docs/latest/gallery/index.html)\n",
    "* [Seaborn Gallery](https://seaborn.pydata.org/examples/index.html)"
   ]
  },
  {
   "cell_type": "markdown",
   "metadata": {},
   "source": [
    "## Other Stuff\n",
    "\n",
    "### Saving plots to file\n",
    "\n",
    "Save a plot with [`savefig(filename)`](https://matplotlib.org/3.1.1/api/_as_gen/matplotlib.pyplot.savefig.html)"
   ]
  },
  {
   "cell_type": "code",
   "execution_count": 9,
   "metadata": {},
   "outputs": [],
   "source": [
    "# ds.ta.isel(plev=0).sel(lat=-37.8, lon=144.9, method='nearest').plot()\n",
    "\n",
    "# plt.savefig('melb_temp.png')"
   ]
  },
  {
   "cell_type": "markdown",
   "metadata": {},
   "source": [
    "### Subplots\n",
    "\n",
    "Create multiple plots that share an axis with [`subplots()`](https://matplotlib.org/3.1.1/api/_as_gen/matplotlib.pyplot.subplots.html?highlight=subplots#matplotlib.pyplot.subplots)\n"
   ]
  },
  {
   "cell_type": "code",
   "execution_count": 10,
   "metadata": {},
   "outputs": [],
   "source": [
    "# fig, axes = plt.subplots(2, 1)\n",
    "\n",
    "# axes[0].pcolormesh(lon, lat, numpy.real(Y_12))\n",
    "\n",
    "# axes[1].contour(lon[0:25], lat, numpy.real(Y_12[:,0:25]))"
   ]
  },
  {
   "cell_type": "markdown",
   "metadata": {},
   "source": [
    "\n",
    "### Hatching\n",
    "\n",
    "Hatch an area (e.g. to show confidence) on a 2d plot by using the base [`pcolor()`](https://matplotlib.org/3.1.1/api/_as_gen/matplotlib.pyplot.pcolor.html) function with `hatch=` - this needs the X and Y values to be supplied as 2d arrays (`pcolormesh()` is faster, but doesn't support hatching)"
   ]
  },
  {
   "cell_type": "code",
   "execution_count": 11,
   "metadata": {},
   "outputs": [],
   "source": [
    "ta = ds.ta.isel(plev=0, time=0)\n",
    "significant = ta.where(ta > 300)\n",
    "\n",
    "# ta.plot.contourf()\n",
    "\n",
    "# X, Y = numpy.meshgrid(ta.lon, ta.lat)\n",
    "# plt.pcolor(X, Y, significant, hatch='.', alpha=0)"
   ]
  },
  {
   "cell_type": "code",
   "execution_count": null,
   "metadata": {},
   "outputs": [],
   "source": []
  }
 ],
 "metadata": {
  "kernelspec": {
   "display_name": "Python [conda env:analysis3-19.07]",
   "language": "python",
   "name": "conda-env-analysis3-19.07-py"
  },
  "language_info": {
   "codemirror_mode": {
    "name": "ipython",
    "version": 3
   },
   "file_extension": ".py",
   "mimetype": "text/x-python",
   "name": "python",
   "nbconvert_exporter": "python",
   "pygments_lexer": "ipython3",
   "version": "3.6.7"
  }
 },
 "nbformat": 4,
 "nbformat_minor": 2
}
