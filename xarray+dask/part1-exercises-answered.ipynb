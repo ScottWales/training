{
 "cells": [
  {
   "cell_type": "markdown",
   "metadata": {},
   "source": [
    "## Loading Data\n",
    "\n",
    "\n",
    "### Load all 39 years of ERA-Interim 3-hourly `tas` data\n",
    "\n",
    "ERA-Interim is stored under `/g/data/ub4`\n",
    "\n",
    "The variable for surface air temperature is `tas`, which you can find under `/g/data/ub4/erai/netcdf/3hr/atmos/oper_fc_sfc/v01/tas/tas*.nc`.\n",
    "\n",
    "If you can't access ERA-Interim, try the ACCESS CMIP5 data under `/g/data/rr3/publications/CMIP5/output1/CSIRO-BOM/ACCESS1-3/historical/3hr/atmos/3hr/r1i1p1/latest/tas/tas*.nc`\n",
    "\n",
    "If you're working on your laptop instead of VDI, you can access data remotely over OpenDAP - `http://dapds00.nci.org.au/thredds/dodsC/rr3/CMIP5/output1/CSIRO-BOM/ACCESS1-3/historical/mon/atmos/Amon/r1i1p1/latest/tas/tas_Amon_ACCESS1-3_historical_r1i1p1_185001-200512.nc`\n",
    "\n",
    "#### Answer\n",
    "```\n",
    "import xarray\n",
    "erai_tas = xarray.open_mfdataset('/g/data/ub4/erai/netcdf/3hr/atmos/oper_fc_sfc/v01/tas/tas*.nc')\n",
    "```\n",
    "    \n",
    "[Xarray docs: netCDF](http://xarray.pydata.org/en/stable/io.html#netcdf)"
   ]
  },
  {
   "cell_type": "code",
   "execution_count": 1,
   "metadata": {},
   "outputs": [
    {
     "name": "stdout",
     "output_type": "stream",
     "text": [
      "/g/data/ub4/erai/netcdf/3hr/atmos/oper_fc_sfc/v01/tas/tas_3hrs_ERAI_historical_fc-sfc_19790101_19790131.nc\r\n",
      "/g/data/ub4/erai/netcdf/3hr/atmos/oper_fc_sfc/v01/tas/tas_3hrs_ERAI_historical_fc-sfc_19790201_19790228.nc\r\n",
      "/g/data/ub4/erai/netcdf/3hr/atmos/oper_fc_sfc/v01/tas/tas_3hrs_ERAI_historical_fc-sfc_19790301_19790331.nc\r\n",
      "/g/data/ub4/erai/netcdf/3hr/atmos/oper_fc_sfc/v01/tas/tas_3hrs_ERAI_historical_fc-sfc_19790401_19790430.nc\r\n",
      "/g/data/ub4/erai/netcdf/3hr/atmos/oper_fc_sfc/v01/tas/tas_3hrs_ERAI_historical_fc-sfc_19790501_19790531.nc\r\n",
      "/g/data/ub4/erai/netcdf/3hr/atmos/oper_fc_sfc/v01/tas/tas_3hrs_ERAI_historical_fc-sfc_19790601_19790630.nc\r\n",
      "/g/data/ub4/erai/netcdf/3hr/atmos/oper_fc_sfc/v01/tas/tas_3hrs_ERAI_historical_fc-sfc_19790701_19790731.nc\r\n",
      "/g/data/ub4/erai/netcdf/3hr/atmos/oper_fc_sfc/v01/tas/tas_3hrs_ERAI_historical_fc-sfc_19790801_19790831.nc\r\n",
      "/g/data/ub4/erai/netcdf/3hr/atmos/oper_fc_sfc/v01/tas/tas_3hrs_ERAI_historical_fc-sfc_19790901_19790930.nc\r\n",
      "/g/data/ub4/erai/netcdf/3hr/atmos/oper_fc_sfc/v01/tas/tas_3hrs_ERAI_historical_fc-sfc_19791001_19791031.nc\r\n",
      "ls: write error: Broken pipe\r\n"
     ]
    }
   ],
   "source": [
    "erai_tas_path = '/g/data/ub4/erai/netcdf/3hr/atmos/oper_fc_sfc/v01/tas/tas*.nc'\n",
    "cmip_tas_path = '/g/data/rr3/publications/CMIP5/output1/CSIRO-BOM/ACCESS1-3/historical/3hr/atmos/3hr/r1i1p1/latest/tas/tas*.nc'\n",
    "cmip_tas_dap  = 'http://dapds00.nci.org.au/thredds/dodsC/rr3/CMIP5/output1/CSIRO-BOM/ACCESS1-3/historical/mon/atmos/Amon/r1i1p1/latest/tas/tas_Amon_ACCESS1-3_historical_r1i1p1_185001-200512.nc'\n",
    "\n",
    "! ls {erai_tas_path} | head"
   ]
  },
  {
   "cell_type": "code",
   "execution_count": 2,
   "metadata": {},
   "outputs": [
    {
     "name": "stdout",
     "output_type": "stream",
     "text": [
      "<xarray.Dataset>\n",
      "Dimensions:  (lat: 241, lon: 480, time: 114920)\n",
      "Coordinates:\n",
      "  * lat      (lat) float64 90.0 89.25 88.5 87.75 87.0 86.25 85.5 84.75 84.0 ...\n",
      "  * lon      (lon) float64 -180.0 -179.2 -178.5 -177.8 -177.0 -176.2 -175.5 ...\n",
      "  * time     (time) datetime64[ns] 1979-01-01T03:00:00 1979-01-01T06:00:00 ...\n",
      "Data variables:\n",
      "    tas      (time, lat, lon) float32 dask.array<shape=(114920, 241, 480), chunksize=(100, 241, 480)>\n",
      "Attributes:\n",
      "    CDI:          Climate Data Interface version 1.6.4 (http://code.zmaw.de/p...\n",
      "    Conventions:  CF-1.4\n",
      "    history:      Mon Aug 31 14:11:51 2015: ncks -O --md5_wrt_att -v tas 2T_1...\n",
      "    CDO:          Climate Data Operators version 1.6.4 (http://code.zmaw.de/p...\n",
      "    title:        ERA-Interim 2 metre temperature [K] forecast on surface (gl...\n",
      "    institution:  ARCCSS ARC Centre of Excellence for Climate System Science ...\n",
      "    source:       Original grib files obtained from http://apps.ecmwf.int/dat...\n",
      "    references:   Please acknowledge both ECMWF for original files and the AR...\n",
      "    NCO:          4.3.8\n",
      "CPU times: user 7.41 s, sys: 7.35 s, total: 14.8 s\n",
      "Wall time: 49.9 s\n"
     ]
    }
   ],
   "source": [
    "%%time\n",
    "\n",
    "import xarray\n",
    "erai_tas = xarray.open_mfdataset(erai_tas_path, chunks={'time':100})\n",
    "print(erai_tas)"
   ]
  },
  {
   "cell_type": "markdown",
   "metadata": {},
   "source": [
    "## Datasets\n",
    "\n",
    "\n",
    "### Print the `tas` variable in the dataset - what is the variable's units?\n",
    "\n",
    "Opening files with Xarray returns a `xarray.Dataset`. Xarray only reads the metadata to start off with, so it's fine to load giant amounts of data that you later filter down to a reasonable amount.\n",
    "\n",
    "You can access variables, attributes and coordinates using Python attribute syntax - `object.attribute`.\n",
    "\n",
    "```\n",
    "print(erai_tas.tas.units)\n",
    "```\n",
    "\n",
    "[Xarray docs: Dataset contents](http://xarray.pydata.org/en/stable/data-structures.html#dataset-contents)"
   ]
  },
  {
   "cell_type": "code",
   "execution_count": null,
   "metadata": {},
   "outputs": [],
   "source": []
  },
  {
   "cell_type": "markdown",
   "metadata": {},
   "source": [
    "### How do the time coordinate attributes differ when you enable and disable time decoding?\n",
    "\n",
    "The time coordinate is special - Xarray converts the values in the file (units of hours since 1901-01-01) to datetime objects. You can get an array of e.g. each time's month numbers using `time.dt.month`. The same works for `year`, `day`, `hour` etc.\n",
    "\n",
    "This behaviour can be disabled by adding a parameter `decode_times=False` when you are opening the file:\n",
    "```\n",
    "xarray.open_dataset('/g/data/ub4/erai/netcdf/3hr/atmos/oper_fc_sfc/v01/tas/'\n",
    "                    'tas_3hrs_ERAI_historical_fc-sfc_19790101_19790131.nc',\n",
    "                    decode_times=False)\n",
    "```\n",
    "\n",
    "#### Answer\n",
    "```\n",
    "print(xarray.open_dataset('/g/data/ub4/erai/netcdf/3hr/atmos/oper_fc_sfc/v01/tas/'\n",
    "                    'tas_3hrs_ERAI_historical_fc-sfc_19790101_19790131.nc',\n",
    "                    decode_times=False).time)\n",
    "                    \n",
    "print(xarray.open_dataset('/g/data/ub4/erai/netcdf/3hr/atmos/oper_fc_sfc/v01/tas/'\n",
    "                    'tas_3hrs_ERAI_historical_fc-sfc_19790101_19790131.nc',\n",
    "                    decode_times=True).time)\n",
    "```\n",
    "\n",
    "[Xarray docs: Reading encoded data](http://xarray.pydata.org/en/stable/io.html#reading-encoded-data)"
   ]
  },
  {
   "cell_type": "code",
   "execution_count": null,
   "metadata": {},
   "outputs": [],
   "source": []
  },
  {
   "cell_type": "markdown",
   "metadata": {},
   "source": [
    "## DataArrays\n",
    "\n",
    "If you access one of the variables in the dataset, you'll get a DataArray. Just like the dataset this has coordinates and attributes, however it also works as a numpy array - you can slice it, apply math functions etc.\n",
    "\n",
    "At the moment, since our dataset is so large, the numpy array is hidden behind a `dask.array` object. If we slice down the array we can see its values (this is really only needed if we want to print the array).\n",
    "\n",
    "<span style=\"background-color:yellow;\">⚠️ Beware of loading ginormous arrays into memory with `.values`, always slice them down first ⚠️</span>\n",
    "\n",
    "[Xarray docs: DataArray](http://xarray.pydata.org/en/stable/data-structures.html#dataarray)  \n",
    "[Xarray docs: Dask](http://xarray.pydata.org/en/stable/dask.html)"
   ]
  },
  {
   "cell_type": "code",
   "execution_count": 3,
   "metadata": {},
   "outputs": [
    {
     "name": "stdout",
     "output_type": "stream",
     "text": [
      "<xarray.DataArray 'tas' (time: 114920, lat: 241, lon: 480)>\n",
      "dask.array<shape=(114920, 241, 480), dtype=float32, chunksize=(100, 241, 480)>\n",
      "Coordinates:\n",
      "  * lat      (lat) float64 90.0 89.25 88.5 87.75 87.0 86.25 85.5 84.75 84.0 ...\n",
      "  * lon      (lon) float64 -180.0 -179.2 -178.5 -177.8 -177.0 -176.2 -175.5 ...\n",
      "  * time     (time) datetime64[ns] 1979-01-01T03:00:00 1979-01-01T06:00:00 ...\n",
      "Attributes:\n",
      "    standard_name:  air_temperature\n",
      "    long_name:      2 metre temperature \n",
      "    units:          K\n",
      "    code:           167\n",
      "    table:          128\n",
      "\n",
      "243.74388\n"
     ]
    }
   ],
   "source": [
    "tas = erai_tas.tas\n",
    "\n",
    "print(tas)\n",
    "print()\n",
    "print(tas[1,2,3].values)"
   ]
  },
  {
   "cell_type": "markdown",
   "metadata": {},
   "source": [
    "## Subsetting data\n",
    "\n",
    "### Create a variable `tas_nino34`, which contains `tas` in the [NINO3.4](http://www.bom.gov.au/climate/enso/indices/about.shtml) area\n",
    "\n",
    "The `.sel()` method on a DataArray or Dataset allows you to filter the selection based on the coordinate value. The arguments to the method should be the coordinate values to use: `tas.sel(lat=30.5)`. If selecting a single value it's a good idea to add the argument `method='nearest'` to get the nearest grid point to the given value.\n",
    "\n",
    "To select a range of values combine `.sel()` with `slice()`, e.g. `tas.sel(lon=slice(60.0, 80.0))`\n",
    "\n",
    "`.sel()` returns a view of the original Dataset or DataArray.\n",
    "\n",
    "```\n",
    "tas_nino34 = tas.sel(lat=slice(5,-5), lon=slice(-170,-120))\n",
    "```\n",
    "\n",
    "Note that `lat` goes from north to south, and `lon` is in degrees east\n",
    "\n",
    "    \n",
    "[Xarray docs: Indexing with dimension names](http://xarray.pydata.org/en/stable/indexing.html#indexing-with-dimension-names)"
   ]
  },
  {
   "cell_type": "code",
   "execution_count": 4,
   "metadata": {},
   "outputs": [],
   "source": [
    "tas_nino34 = tas.sel(lat=slice(5,-5), lon=slice(-170,-120))"
   ]
  },
  {
   "cell_type": "markdown",
   "metadata": {},
   "source": [
    "### Plot a single time value of the selected area onto a map\n",
    "\n",
    "Cartopy adds map plotting and projection tools to Pyplot. Create a cartopy-enabled axis by passing in a [projection](https://scitools.org.uk/cartopy/docs/latest/crs/projections.html) when you create the axes: `ax = plt.axes(projection=ccrs.PlateCarree())` (Plate Carree is a regular lat-lon projection)\n",
    "\n",
    "These axes can be passed in as the `ax` parameter of plotting functions.\n",
    "\n",
    "Cartopy adds some useful methods to the axes - try `ax.coastlines()` and `ax.stock_img()`. `ax.set_global()` will set the bounds to the whole globe.\n",
    "\n",
    "<span style=\"background-color:yellow;\">⚠️ This will load the data from the files, make sure you select a single time value. Use the 'stop' button in the toolbar if this takes too long ⚠️</span>\n",
    "\n",
    "#### Answer\n",
    "```\n",
    "import matplotlib.pyplot as plt\n",
    "import cartopy.crs as ccrs\n",
    "ax = plt.axes(projection = ccrs.PlateCarree())\n",
    "tas_nino34.isel(time=0).plot(ax = ax)\n",
    "ax.coastlines()\n",
    "ax.set_global()\n",
    "```\n",
    "    \n",
    "[Xarray docs: 2D Plotting](http://xarray.pydata.org/en/stable/plotting.html#two-dimensions)  \n",
    "[Cartopy docs: Using cartopy with matplotlib](https://scitools.org.uk/cartopy/docs/latest/matplotlib/intro.html)"
   ]
  },
  {
   "cell_type": "code",
   "execution_count": 5,
   "metadata": {},
   "outputs": [],
   "source": [
    "%matplotlib inline\n",
    "import matplotlib.pyplot as plt\n",
    "import cartopy.crs as ccrs\n",
    "\n",
    "# ???"
   ]
  },
  {
   "cell_type": "markdown",
   "metadata": {},
   "source": [
    "## Calculations\n",
    "\n",
    "### Calculate the baseline by meaning `tas_nino34` between 1961 and 1990\n",
    "\n",
    "Just like a numpy array you can calculate aggregate statistics using `.mean()`, `.stddef()`, etc. These functions can now take a list of dimensions to run the calculation over, instead of using axis numbers.\n",
    "\n",
    "#### Answer\n",
    "```\n",
    "baseline = tas_nino34.sel(time=slice('1961','1990')).mean(['time', 'lat', 'lon'])\n",
    "```\n",
    "    \n",
    "[Xarray docs: Aggregation](http://xarray.pydata.org/en/stable/computation.html#aggregation)"
   ]
  },
  {
   "cell_type": "code",
   "execution_count": 7,
   "metadata": {},
   "outputs": [
    {
     "data": {
      "text/plain": [
       "<xarray.DataArray 'tas' ()>\n",
       "dask.array<shape=(), dtype=float32, chunksize=()>"
      ]
     },
     "execution_count": 7,
     "metadata": {},
     "output_type": "execute_result"
    }
   ],
   "source": [
    "baseline = tas_nino34.sel(time=slice('1961', '1990')).mean()\n",
    "baseline"
   ]
  },
  {
   "cell_type": "markdown",
   "metadata": {},
   "source": [
    "### Create a plot of the NINO3.4 index over the last decade\n",
    "\n",
    "Xarray will automaticaly work out if it should create a one or two-dimensional plot based on the data, which is good for quick plotting.\n",
    "\n",
    "#### Answer\n",
    "```\n",
    "nino34 = tas_nino34.mean(['lat','lon']).sel(time=slice('2008', None)) - baseline\n",
    "nino34.plot()\n",
    "```\n",
    "    \n",
    "[Xarray docs: 1D plotting](http://xarray.pydata.org/en/stable/plotting.html#one-dimension)"
   ]
  },
  {
   "cell_type": "markdown",
   "metadata": {},
   "source": [
    "## Running in parallel\n",
    "\n",
    "One of the really cool features of Xarray is how easy it is to run your analysis in parallel - all you need to do is start a `dask.distributed.Client`, then any calculation using a Dask array will be run in parallel.\n",
    "\n",
    "Dask breaks up its arrays into chunks - you can modify the size of these chunks using the `chunks` argument to `xarray.open_mfdataset()`, e.g. `xarray.open_mfdataset(..., chunks={'time': 10})` will create a chunk every 10 timesteps. Changing the size of these chunks can effect the speed of parallel calculations"
   ]
  },
  {
   "cell_type": "code",
   "execution_count": 8,
   "metadata": {},
   "outputs": [
    {
     "data": {
      "text/html": [
       "<table style=\"border: 2px solid white;\">\n",
       "<tr>\n",
       "<td style=\"vertical-align: top; border: 0px solid white\">\n",
       "<h3>Client</h3>\n",
       "<ul>\n",
       "  <li><b>Scheduler: </b>tcp://127.0.0.1:39056\n",
       "  <li><b>Dashboard: </b><a href='http://127.0.0.1:8787/status' target='_blank'>http://127.0.0.1:8787/status</a>\n",
       "</ul>\n",
       "</td>\n",
       "<td style=\"vertical-align: top; border: 0px solid white\">\n",
       "<h3>Cluster</h3>\n",
       "<ul>\n",
       "  <li><b>Workers: </b>8</li>\n",
       "  <li><b>Cores: </b>8</li>\n",
       "  <li><b>Memory: </b>33.67 GB</li>\n",
       "</ul>\n",
       "</td>\n",
       "</tr>\n",
       "</table>"
      ],
      "text/plain": [
       "<Client: scheduler='tcp://127.0.0.1:39056' processes=8 cores=8>"
      ]
     },
     "execution_count": 8,
     "metadata": {},
     "output_type": "execute_result"
    }
   ],
   "source": [
    "from dask.distributed import Client\n",
    "c = Client()\n",
    "c"
   ]
  },
  {
   "cell_type": "code",
   "execution_count": 9,
   "metadata": {},
   "outputs": [
    {
     "data": {
      "text/plain": [
       "[<matplotlib.lines.Line2D at 0x7fe7dd4aab38>]"
      ]
     },
     "execution_count": 9,
     "metadata": {},
     "output_type": "execute_result"
    },
    {
     "data": {
      "image/png": "[encoded data removed]",
      "text/plain": [
       "<Figure size 432x288 with 1 Axes>"
      ]
     },
     "metadata": {},
     "output_type": "display_data"
    }
   ],
   "source": [
    "nino34 = tas_nino34.mean(dim=['lat', 'lon']) - baseline\n",
    "nino34.sel(time=slice('2008','2018')).plot()"
   ]
  },
  {
   "cell_type": "markdown",
   "metadata": {},
   "source": [
    "### Save the NINO3.4 timeseries to a new NetCDF file\n",
    "\n",
    "Create a new Dataset containing the nino34 index you calculated.\n",
    "\n",
    "Take a look at its metadata - does it have the correct variable name and units?\n",
    "\n",
    "Check the [CF conventions](http://cfconventions.org/Data/cf-conventions/cf-conventions-1.7/cf-conventions.html#description-of-file-contents) for the file-level metadata that needs to be added to a file and add it to the dataset.\n",
    "\n",
    "Once all the metadata looks correct, save it using `.to_netcdf()` and check the contents by running `ncdump -h` on the newly created file\n",
    "\n",
    "#### Answer\n",
    "```\n",
    "nino34_dataset = xarray.Dataset({'nino34': nino34})\n",
    "nino34_dataset.attrs['title'] = \"NINO3.4 index calculated from ERA-Interim\"\n",
    "nino34_dataset.attrs['institution'] = \"ARC Centre of Excellence for Climate Extremes\"\n",
    "nino34_dataset.attrs['source'] = \"ECMWF ERA-Interim tas\"\n",
    "nino34_dataset.attrs['references'] = \"http://www.bom.gov.au/climate/enso/indices/about.shtml\"\n",
    "nino34_dataset.attrs['history'] = \"2018-07-11 Calculated using Jupyter notebook\"\n",
    "\n",
    "nino34_dataset.nino34.attrs['units'] = \"K\"\n",
    "\n",
    "print(nino34_dataset)\n",
    "print(nino34_dataset.nino34)\n",
    "\n",
    "nino34_dataset.to_netcdf('nino34.nc', encoding={'nino34': {'zlib': True}})\n",
    "\n",
    "! ncdump -h nino34.nc\n",
    "```\n",
    "\n",
    "You can run shell commands from Jupyter by starting a line with `!`\n",
    "\n",
    "\n",
    "[Xarray docs: Writing encoded data](http://xarray.pydata.org/en/stable/io.html#writing-encoded-data)  \n",
    "[netCDF4 docs: createVariable()](http://unidata.github.io/netcdf4-python/#netCDF4.Dataset.createVariable)"
   ]
  },
  {
   "cell_type": "code",
   "execution_count": 10,
   "metadata": {},
   "outputs": [],
   "source": [
    "ds = nino34.sel(time='1990').to_dataset(name='nino34')"
   ]
  },
  {
   "cell_type": "code",
   "execution_count": 11,
   "metadata": {},
   "outputs": [],
   "source": [
    "ds.attrs['title'] = 'ENSO 3.4 Index'\n",
    "\n",
    "ds.nino34.attrs['units'] = 'deg_C'\n",
    "ds.nino34.attrs['standard_name'] = '...'\n",
    "\n",
    "ds.to_netcdf('enso34.nc')"
   ]
  },
  {
   "cell_type": "markdown",
   "metadata": {},
   "source": [
    "### Apply the analysis to other datasets\n",
    "\n",
    "Try running the ENSO analysis on a different CMIP5 model\n",
    "\n",
    "Put the steps we've done so far to calculate the index into a function that takes a `tas` field as input and returns a ENSO 3.4 `DataArray`"
   ]
  },
  {
   "cell_type": "code",
   "execution_count": 12,
   "metadata": {},
   "outputs": [],
   "source": [
    "def nino34(tas):\n",
    "    tas_nino34 = tas.sel(lat=slice(5,-5), lon=slice(-170,-120))\n",
    "    baseline = tas_nino34.sel(time=slice('1961', '1990')).mean()\n",
    "    nino34 = tas_nino34.mean(dim=['lat', 'lon']) - baseline\n",
    "    nino34.name = 'nino34'\n",
    "    nino34.attrs['units'] = 'deg_C'\n",
    "    \n",
    "    return nino34"
   ]
  },
  {
   "cell_type": "code",
   "execution_count": 13,
   "metadata": {},
   "outputs": [
    {
     "data": {
      "text/plain": [
       "<xarray.DataArray 'nino34' (time: 114920)>\n",
       "dask.array<shape=(114920,), dtype=float32, chunksize=(100,)>\n",
       "Coordinates:\n",
       "  * time     (time) datetime64[ns] 1979-01-01T03:00:00 1979-01-01T06:00:00 ...\n",
       "Attributes:\n",
       "    units:    deg_C"
      ]
     },
     "execution_count": 13,
     "metadata": {},
     "output_type": "execute_result"
    }
   ],
   "source": [
    "nino34(tas)"
   ]
  },
  {
   "cell_type": "markdown",
   "metadata": {},
   "source": [
    "# Extra stuff\n",
    "\n",
    "## Changing times\n",
    "\n",
    "You can open a file with `decode_times=False`, modify the time axis then call `xarray.decode_cf()` to work around errors in the time axis\n",
    "\n",
    "Say you want to change the units from hours to days:"
   ]
  },
  {
   "cell_type": "code",
   "execution_count": 14,
   "metadata": {},
   "outputs": [
    {
     "data": {
      "text/plain": [
       "<xarray.DataArray 'time' (time: 248)>\n",
       "array([692499., 692502., 692505., ..., 693234., 693237., 693240.])\n",
       "Coordinates:\n",
       "  * time     (time) float64 6.925e+05 6.925e+05 6.925e+05 6.925e+05 ...\n",
       "Attributes:\n",
       "    standard_name:  time\n",
       "    units:          hours since 1900-01-01 00:00:00\n",
       "    calendar:       proleptic_gregorian\n",
       "    MD5:            bd9169e5b5ef095218a7fc3236f439ea"
      ]
     },
     "execution_count": 14,
     "metadata": {},
     "output_type": "execute_result"
    }
   ],
   "source": [
    "ds = xarray.open_dataset('/g/data/ub4/erai/netcdf/3hr/atmos/oper_fc_sfc/v01/tas/'\n",
    "                    'tas_3hrs_ERAI_historical_fc-sfc_19790101_19790131.nc',\n",
    "                    decode_times=False)\n",
    "ds.time"
   ]
  },
  {
   "cell_type": "code",
   "execution_count": 15,
   "metadata": {},
   "outputs": [
    {
     "data": {
      "text/plain": [
       "<xarray.DataArray 'time' (time: 248)>\n",
       "array([28854.125, 28854.25 , 28854.375, ..., 28884.75 , 28884.875, 28885.   ])\n",
       "Coordinates:\n",
       "  * time     (time) float64 2.885e+04 2.885e+04 2.885e+04 2.885e+04 ...\n",
       "Attributes:\n",
       "    units:    days since 1900-01-01 00:00:00"
      ]
     },
     "execution_count": 15,
     "metadata": {},
     "output_type": "execute_result"
    }
   ],
   "source": [
    "ds['time'] = ds.time/24\n",
    "ds.time.attrs['units'] = 'days since 1900-01-01 00:00:00'\n",
    "ds.time"
   ]
  },
  {
   "cell_type": "code",
   "execution_count": 16,
   "metadata": {},
   "outputs": [
    {
     "data": {
      "text/plain": [
       "<xarray.DataArray 'time' (time: 248)>\n",
       "array(['1979-01-01T03:00:00.000000000', '1979-01-01T06:00:00.000000000',\n",
       "       '1979-01-01T09:00:00.000000000', ..., '1979-01-31T18:00:00.000000000',\n",
       "       '1979-01-31T21:00:00.000000000', '1979-02-01T00:00:00.000000000'],\n",
       "      dtype='datetime64[ns]')\n",
       "Coordinates:\n",
       "  * time     (time) datetime64[ns] 1979-01-01T03:00:00 1979-01-01T06:00:00 ..."
      ]
     },
     "execution_count": 16,
     "metadata": {},
     "output_type": "execute_result"
    }
   ],
   "source": [
    "ds2 = xarray.decode_cf(ds)\n",
    "ds2.time"
   ]
  },
  {
   "cell_type": "markdown",
   "metadata": {},
   "source": [
    "## Climatologies\n",
    "\n",
    "A proper calculation of the index needs a climatology, not a static value.\n",
    "\n",
    "You can create a climatology using the `.groupby()` function. This adds a new dimension to the dataset - here the number of days since the start of the year. You can then remove the other dimensions using `.mean()`.\n",
    "\n",
    "To subtract the climatology from a dataset you also need to `.groupby()` the dataset - Xarray will pair up values with the same `dayofyear`.\n",
    "\n",
    "Since I've got a sub-daily dataset I have to get the daily mean first, using `.resample(time='D').mean()`\n",
    "\n",
    "Unfortunately it's easy to get errors when running with `dask.distributed` and climatologies - here I had to `.load()` the climatology first to get it to work.\n",
    "\n",
    "If you do run into errors, first see if you can get it to work with a smaller dataset, and without `dask.distributed`. You can also email us at climate_help@nci.org.au for help if you can't work it out"
   ]
  },
  {
   "cell_type": "code",
   "execution_count": 17,
   "metadata": {},
   "outputs": [],
   "source": [
    "climatology = tas_nino34.sel(time=slice('1961','1990')).groupby('time.dayofyear').mean(dim=['time','lat','lon'])"
   ]
  },
  {
   "cell_type": "code",
   "execution_count": 44,
   "metadata": {
    "scrolled": true
   },
   "outputs": [
    {
     "data": {
      "text/plain": [
       "<xarray.DataArray 'tas' (dayofyear: 366)>\n",
       "array([298.92215, 298.89752, 298.91208, ..., 298.9375 , 298.92343, 298.073  ],\n",
       "      dtype=float32)\n",
       "Coordinates:\n",
       "  * dayofyear  (dayofyear) int64 1 2 3 4 5 6 7 8 9 10 11 12 13 14 15 16 17 ..."
      ]
     },
     "execution_count": 44,
     "metadata": {},
     "output_type": "execute_result"
    }
   ],
   "source": [
    "climatology.load()"
   ]
  },
  {
   "cell_type": "code",
   "execution_count": 45,
   "metadata": {},
   "outputs": [],
   "source": [
    "nino34 = tas_nino34.mean(dim=['lat','lon']).resample(time='D').mean().groupby('time.dayofyear') - climatology"
   ]
  },
  {
   "cell_type": "code",
   "execution_count": 47,
   "metadata": {},
   "outputs": [
    {
     "data": {
      "text/plain": [
       "[<matplotlib.lines.Line2D at 0x7fe6eb69bfd0>]"
      ]
     },
     "execution_count": 47,
     "metadata": {},
     "output_type": "execute_result"
    },
    {
     "data": {
      "image/png": "[encoded data removed]",
      "text/plain": [
       "<Figure size 432x288 with 1 Axes>"
      ]
     },
     "metadata": {},
     "output_type": "display_data"
    }
   ],
   "source": [
    "nino34.sel(time='2003').plot()"
   ]
  },
  {
   "cell_type": "code",
   "execution_count": null,
   "metadata": {},
   "outputs": [],
   "source": []
  }
 ],
 "metadata": {
  "kernelspec": {
   "display_name": "Python [default]",
   "language": "python",
   "name": "python3"
  },
  "language_info": {
   "codemirror_mode": {
    "name": "ipython",
    "version": 3
   },
   "file_extension": ".py",
   "mimetype": "text/x-python",
   "name": "python",
   "nbconvert_exporter": "python",
   "pygments_lexer": "ipython3",
   "version": "3.6.5"
  }
 },
 "nbformat": 4,
 "nbformat_minor": 2
}
