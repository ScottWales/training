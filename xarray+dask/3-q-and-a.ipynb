{
 "cells": [
  {
   "cell_type": "markdown",
   "metadata": {},
   "source": [
    "# When should I use `.load()`?\n",
    "\n",
    "The `.load()` function converts a Dask array to a Numpy array, reading it into memory\n",
    "\n",
    "If you've narrowed down your selection to a small number of grid points, but it covers a long timeseries (and so a large number of files) using `.load()` can speed things up, as Dask doesn't need to open up each file every time you do something with the array.\n",
    "\n",
    "Remember that the size of an array in bytes is normally `8 * array.size`"
   ]
  },
  {
   "cell_type": "markdown",
   "metadata": {},
   "source": [
    "# What other ways are there to use `.groupby()`?\n",
    "\n",
    "`.groupby()` is really handy in the time dimension. Some other ways to use it:\n",
    "\n",
    " * You can add a new dimension that categorises each point - the `regionmask` library is one way to do this\n",
    " * `.groupby_bins()` can bin a coordinate, either into a number of equal bins or using specified points"
   ]
  },
  {
   "cell_type": "markdown",
   "metadata": {},
   "source": [
    "# Filtering curvilinear Grids\n",
    "\n",
    "`.sel()` is less helpful on a curvilinear grid. You can however do a similar thing with `.where()`:\n",
    "\n",
    "```\n",
    "data.where(10 <= data.lat < 20)\n",
    "```"
   ]
  },
  {
   "cell_type": "markdown",
   "metadata": {},
   "source": [
    "# Libraries that build upon Xarray + Dask\n",
    "\n",
    "\n",
    "http://xarray.pydata.org/en/latest/faq.html#what-other-projects-leverage-xarray\n",
    "\n",
    "http://pangeo-data.org"
   ]
  }
 ],
 "metadata": {
  "kernelspec": {
   "display_name": "Python [conda env:analysis3-18.04]",
   "language": "python",
   "name": "conda-env-analysis3-18.04-py"
  },
  "language_info": {
   "codemirror_mode": {
    "name": "ipython",
    "version": 3
   },
   "file_extension": ".py",
   "mimetype": "text/x-python",
   "name": "python",
   "nbconvert_exporter": "python",
   "pygments_lexer": "ipython3",
   "version": "3.6.5"
  }
 },
 "nbformat": 4,
 "nbformat_minor": 2
}
